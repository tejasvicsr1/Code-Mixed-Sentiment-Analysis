{
 "cells": [
  {
   "cell_type": "code",
   "execution_count": 3,
   "id": "4268de22",
   "metadata": {},
   "outputs": [],
   "source": [
    "import pandas as pd"
   ]
  },
  {
   "cell_type": "code",
   "execution_count": 4,
   "id": "d4eaec1b",
   "metadata": {},
   "outputs": [],
   "source": [
    "df = pd.read_csv('parallel_corpus.csv')  "
   ]
  },
  {
   "cell_type": "code",
   "execution_count": 5,
   "id": "260d3691",
   "metadata": {},
   "outputs": [
    {
     "data": {
      "text/plain": [
       "Index(['Sentence', 'English_Translation'], dtype='object')"
      ]
     },
     "execution_count": 5,
     "metadata": {},
     "output_type": "execute_result"
    }
   ],
   "source": [
    "df.columns"
   ]
  },
  {
   "cell_type": "code",
   "execution_count": 6,
   "id": "46c22614",
   "metadata": {},
   "outputs": [
    {
     "data": {
      "text/plain": [
       "13738"
      ]
     },
     "execution_count": 6,
     "metadata": {},
     "output_type": "execute_result"
    }
   ],
   "source": [
    "len(df)"
   ]
  },
  {
   "cell_type": "code",
   "execution_count": 7,
   "id": "9718adc0",
   "metadata": {},
   "outputs": [],
   "source": [
    "train = df[:-len(df)//10]\n",
    "test = df[:len(df)//10]"
   ]
  },
  {
   "cell_type": "code",
   "execution_count": 10,
   "id": "7a102653",
   "metadata": {},
   "outputs": [
    {
     "data": {
      "text/plain": [
       "(12364, 1373)"
      ]
     },
     "execution_count": 10,
     "metadata": {},
     "output_type": "execute_result"
    }
   ],
   "source": [
    "len(train), len(test)"
   ]
  },
  {
   "cell_type": "code",
   "execution_count": 12,
   "id": "1d5ea856",
   "metadata": {},
   "outputs": [],
   "source": [
    "src_train = train['Sentence']\n",
    "tgt_train = train['English_Translation']\n",
    "src_test = test['Sentence']\n",
    "tgt_test = train['English_Translation']"
   ]
  },
  {
   "cell_type": "code",
   "execution_count": 16,
   "id": "60015e67",
   "metadata": {},
   "outputs": [],
   "source": [
    "with open('tgt-train.txt', 'w') as f:\n",
    "    for item in tgt_train:\n",
    "        f.write(\"%s\\n\" % item)"
   ]
  },
  {
   "cell_type": "code",
   "execution_count": null,
   "id": "fb9d3831",
   "metadata": {},
   "outputs": [],
   "source": []
  }
 ],
 "metadata": {
  "kernelspec": {
   "display_name": "Python 3",
   "language": "python",
   "name": "python3"
  },
  "language_info": {
   "codemirror_mode": {
    "name": "ipython",
    "version": 3
   },
   "file_extension": ".py",
   "mimetype": "text/x-python",
   "name": "python",
   "nbconvert_exporter": "python",
   "pygments_lexer": "ipython3",
   "version": "3.9.7"
  }
 },
 "nbformat": 4,
 "nbformat_minor": 5
}
