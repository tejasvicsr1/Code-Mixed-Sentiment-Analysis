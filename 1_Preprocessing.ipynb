{
 "cells": [
  {
   "cell_type": "code",
   "execution_count": 1,
   "id": "fe10c576",
   "metadata": {},
   "outputs": [],
   "source": [
    "f1 = open('train_conll.txt')\n",
    "f2 = open('trial_conll.txt')\n",
    "data1 = f1.readlines()\n",
    "data2 = f2.readline()"
   ]
  },
  {
   "cell_type": "code",
   "execution_count": 13,
   "id": "550acb03",
   "metadata": {
    "scrolled": true
   },
   "outputs": [
    {
     "data": {
      "text/plain": [
       "['meta\\t3\\tnegative\\n',\n",
       " '@\\tO\\n',\n",
       " 'AdilNisarButt\\tHin\\n',\n",
       " 'pakistan\\tHin\\n',\n",
       " 'ka\\tHin\\n',\n",
       " 'ghra\\tHin\\n',\n",
       " 'tauq\\tHin\\n',\n",
       " 'he\\tEng\\n',\n",
       " 'Pakistan\\tEng\\n',\n",
       " 'Israel\\tEng\\n']"
      ]
     },
     "execution_count": 13,
     "metadata": {},
     "output_type": "execute_result"
    }
   ],
   "source": [
    "data1[:10]"
   ]
  },
  {
   "cell_type": "code",
   "execution_count": 26,
   "id": "75ed198e",
   "metadata": {},
   "outputs": [],
   "source": [
    "all_data = []\n",
    "row = {}"
   ]
  },
  {
   "cell_type": "code",
   "execution_count": 27,
   "id": "a2961d42",
   "metadata": {},
   "outputs": [],
   "source": [
    "for line in data1:\n",
    "    info = line.split('\\t')\n",
    "    if info[0] == 'meta':\n",
    "        row['label'] = info[-1].strip()\n",
    "        new_sentence = []\n",
    "        continue\n",
    "    if info[0] == '\\n':\n",
    "        row['tweet'] = new_sentence\n",
    "        all_data.append(row)\n",
    "        row = {}\n",
    "        continue\n",
    "    new_sentence.append(info[0])\n",
    "    "
   ]
  },
  {
   "cell_type": "code",
   "execution_count": 28,
   "id": "a303d0af",
   "metadata": {},
   "outputs": [
    {
     "data": {
      "text/plain": [
       "15131"
      ]
     },
     "execution_count": 28,
     "metadata": {},
     "output_type": "execute_result"
    }
   ],
   "source": [
    "len(all_data)"
   ]
  },
  {
   "cell_type": "code",
   "execution_count": 29,
   "id": "52c785eb",
   "metadata": {},
   "outputs": [
    {
     "data": {
      "text/plain": [
       "[{'label': 'negative',\n",
       "  'tweet': ['@',\n",
       "   'AdilNisarButt',\n",
       "   'pakistan',\n",
       "   'ka',\n",
       "   'ghra',\n",
       "   'tauq',\n",
       "   'he',\n",
       "   'Pakistan',\n",
       "   'Israel',\n",
       "   'ko',\n",
       "   'tasleem',\n",
       "   'nahein',\n",
       "   'kerta',\n",
       "   'Isko',\n",
       "   'Palestine',\n",
       "   'kehta',\n",
       "   'he',\n",
       "   '-',\n",
       "   'OCCUPIED',\n",
       "   'PALESTINE']},\n",
       " {'label': 'negative',\n",
       "  'tweet': ['Madarchod',\n",
       "   'mulle',\n",
       "   'ye',\n",
       "   'mathura',\n",
       "   'me',\n",
       "   'Nahi',\n",
       "   'dikha',\n",
       "   'tha',\n",
       "   'jab',\n",
       "   'mullo',\n",
       "   'ne',\n",
       "   'Hindu',\n",
       "   'ko',\n",
       "   'iss',\n",
       "   'liye',\n",
       "   'mara',\n",
       "   'ki',\n",
       "   'vo',\n",
       "   'lasse',\n",
       "   'ki',\n",
       "   'paise',\n",
       "   'mag',\n",
       "   'liye',\n",
       "   'the',\n",
       "   '…',\n",
       "   'https',\n",
       "   '//',\n",
       "   't',\n",
       "   '.',\n",
       "   'co',\n",
       "   '/',\n",
       "   'oxf8tr3bly']},\n",
       " {'label': 'positive',\n",
       "  'tweet': ['@',\n",
       "   'narendramodi',\n",
       "   'Manya',\n",
       "   'Pradhan',\n",
       "   'Mantri',\n",
       "   'mahoday',\n",
       "   'Shriman',\n",
       "   'Narendra',\n",
       "   'Modi',\n",
       "   'ji',\n",
       "   'Pradhanmantri',\n",
       "   'banne',\n",
       "   'par',\n",
       "   'Hardik',\n",
       "   'Badhai',\n",
       "   'tahe',\n",
       "   'Dil',\n",
       "   '…',\n",
       "   'https',\n",
       "   '//',\n",
       "   't',\n",
       "   '.',\n",
       "   'co',\n",
       "   '/',\n",
       "   'pRnoMsKkn1']},\n",
       " {'label': 'positive',\n",
       "  'tweet': ['@',\n",
       "   'Atheist',\n",
       "   '_',\n",
       "   'Krishna',\n",
       "   'Jcb',\n",
       "   'full',\n",
       "   'trend',\n",
       "   'me',\n",
       "   'chal',\n",
       "   'rahi',\n",
       "   'aa']},\n",
       " {'label': 'positive',\n",
       "  'tweet': ['@',\n",
       "   'AbhisharSharma',\n",
       "   '_',\n",
       "   '@',\n",
       "   'RavishKumarBlog',\n",
       "   'Loksabha',\n",
       "   'me',\n",
       "   'janta',\n",
       "   'sirf',\n",
       "   'modi',\n",
       "   'ko',\n",
       "   'vote',\n",
       "   'de',\n",
       "   'rahi',\n",
       "   'thi',\n",
       "   'na',\n",
       "   'ki',\n",
       "   'kisi',\n",
       "   'MP',\n",
       "   'or',\n",
       "   'BJP',\n",
       "   'ko',\n",
       "   'without',\n",
       "   'm',\n",
       "   '…',\n",
       "   'https',\n",
       "   '//',\n",
       "   't',\n",
       "   '.',\n",
       "   'co',\n",
       "   '/',\n",
       "   'sHtBWCB7FM']},\n",
       " {'label': 'negative',\n",
       "  'tweet': ['@',\n",
       "   'noirnaveed',\n",
       "   '@',\n",
       "   'AngelAhana6',\n",
       "   '@',\n",
       "   'cricketworldcup',\n",
       "   'Bhosdike',\n",
       "   'tum',\n",
       "   'pechvade',\n",
       "   'ki',\n",
       "   'tatti',\n",
       "   'hi',\n",
       "   'rahoge',\n",
       "   'bc']},\n",
       " {'label': 'positive',\n",
       "  'tweet': ['Love',\n",
       "   'u',\n",
       "   'Bhaijan',\n",
       "   '...♥♥',\n",
       "   'Father',\n",
       "   '+',\n",
       "   'son',\n",
       "   '..',\n",
       "   '#',\n",
       "   'Bharat',\n",
       "   '#',\n",
       "   'IAmBharat',\n",
       "   '#',\n",
       "   'BharatThisEid',\n",
       "   'BEST',\n",
       "   'Pic',\n",
       "   'From',\n",
       "   'Entire',\n",
       "   '#',\n",
       "   'Promotions',\n",
       "   '...',\n",
       "   'Mashallah',\n",
       "   '…',\n",
       "   'https',\n",
       "   '//',\n",
       "   't',\n",
       "   '.',\n",
       "   'co',\n",
       "   '/',\n",
       "   'S2xhwU6LUD']},\n",
       " {'label': 'negative',\n",
       "  'tweet': ['@',\n",
       "   'manojgajjar111',\n",
       "   'Tumhara',\n",
       "   'pass',\n",
       "   'abh',\n",
       "   'deemagh',\n",
       "   'hai',\n",
       "   'nahi',\n",
       "   'islea',\n",
       "   'Google',\n",
       "   'ko',\n",
       "   'apna',\n",
       "   'deemagh',\n",
       "   'banaya',\n",
       "   'hua',\n",
       "   'hai',\n",
       "   '.',\n",
       "   'Har',\n",
       "   'koi',\n",
       "   'tumhari',\n",
       "   'tarh',\n",
       "   '…',\n",
       "   'https',\n",
       "   '//',\n",
       "   't',\n",
       "   '.',\n",
       "   'co',\n",
       "   '/',\n",
       "   'BxuEug3xsN']},\n",
       " {'label': 'positive',\n",
       "  'tweet': ['@',\n",
       "   'Mahlogo',\n",
       "   '_',\n",
       "   'nolo',\n",
       "   'Weni',\n",
       "   'ankere',\n",
       "   'o',\n",
       "   'gae',\n",
       "   'this',\n",
       "   'weekend',\n",
       "   '😂😂😂😂😂']},\n",
       " {'label': 'negative',\n",
       "  'tweet': ['@',\n",
       "   'Aurangzeb',\n",
       "   '_',\n",
       "   'AIMIM',\n",
       "   '@',\n",
       "   'SachinS40805591',\n",
       "   'Lage',\n",
       "   'raho',\n",
       "   'mullo',\n",
       "   'tumhre',\n",
       "   'issi',\n",
       "   'Quran',\n",
       "   'faad',\n",
       "   'gyan',\n",
       "   'ki',\n",
       "   'kayal',\n",
       "   'hain',\n",
       "   'duniya',\n",
       "   'Allah',\n",
       "   'bhi',\n",
       "   'khus',\n",
       "   '…',\n",
       "   'https',\n",
       "   '//',\n",
       "   't',\n",
       "   'co',\n",
       "   '/',\n",
       "   'GHa9dWNZ6u']}]"
      ]
     },
     "execution_count": 29,
     "metadata": {},
     "output_type": "execute_result"
    }
   ],
   "source": [
    "all_data[:10]"
   ]
  },
  {
   "cell_type": "code",
   "execution_count": 47,
   "id": "5f39f508",
   "metadata": {},
   "outputs": [],
   "source": [
    "new_data = []"
   ]
  },
  {
   "cell_type": "code",
   "execution_count": 48,
   "id": "8aeb67b6",
   "metadata": {},
   "outputs": [],
   "source": [
    "for row in all_data:\n",
    "    tweet = ' '.join(row['tweet'])\n",
    "    new_row = {\"tweet\":tweet, \"label\":row['label']}\n",
    "    new_data.append(new_row)"
   ]
  },
  {
   "cell_type": "code",
   "execution_count": 49,
   "id": "953f6763",
   "metadata": {
    "scrolled": true
   },
   "outputs": [
    {
     "data": {
      "text/plain": [
       "[{'tweet': '@ AdilNisarButt pakistan ka ghra tauq he Pakistan Israel ko tasleem nahein kerta Isko Palestine kehta he - OCCUPIED PALESTINE',\n",
       "  'label': 'negative'},\n",
       " {'tweet': 'Madarchod mulle ye mathura me Nahi dikha tha jab mullo ne Hindu ko iss liye mara ki vo lasse ki paise mag liye the … https // t . co / oxf8tr3bly',\n",
       "  'label': 'negative'},\n",
       " {'tweet': '@ narendramodi Manya Pradhan Mantri mahoday Shriman Narendra Modi ji Pradhanmantri banne par Hardik Badhai tahe Dil … https // t . co / pRnoMsKkn1',\n",
       "  'label': 'positive'},\n",
       " {'tweet': '@ Atheist _ Krishna Jcb full trend me chal rahi aa',\n",
       "  'label': 'positive'},\n",
       " {'tweet': '@ AbhisharSharma _ @ RavishKumarBlog Loksabha me janta sirf modi ko vote de rahi thi na ki kisi MP or BJP ko without m … https // t . co / sHtBWCB7FM',\n",
       "  'label': 'positive'},\n",
       " {'tweet': '@ noirnaveed @ AngelAhana6 @ cricketworldcup Bhosdike tum pechvade ki tatti hi rahoge bc',\n",
       "  'label': 'negative'},\n",
       " {'tweet': 'Love u Bhaijan ...♥♥ Father + son .. # Bharat # IAmBharat # BharatThisEid BEST Pic From Entire # Promotions ... Mashallah … https // t . co / S2xhwU6LUD',\n",
       "  'label': 'positive'},\n",
       " {'tweet': '@ manojgajjar111 Tumhara pass abh deemagh hai nahi islea Google ko apna deemagh banaya hua hai . Har koi tumhari tarh … https // t . co / BxuEug3xsN',\n",
       "  'label': 'negative'},\n",
       " {'tweet': '@ Mahlogo _ nolo Weni ankere o gae this weekend 😂😂😂😂😂',\n",
       "  'label': 'positive'},\n",
       " {'tweet': '@ Aurangzeb _ AIMIM @ SachinS40805591 Lage raho mullo tumhre issi Quran faad gyan ki kayal hain duniya Allah bhi khus … https // t co / GHa9dWNZ6u',\n",
       "  'label': 'negative'}]"
      ]
     },
     "execution_count": 49,
     "metadata": {},
     "output_type": "execute_result"
    }
   ],
   "source": [
    "new_data[:10]"
   ]
  },
  {
   "cell_type": "code",
   "execution_count": 50,
   "id": "b49de148",
   "metadata": {},
   "outputs": [],
   "source": [
    "import re"
   ]
  },
  {
   "cell_type": "code",
   "execution_count": 51,
   "id": "a182a11a",
   "metadata": {},
   "outputs": [],
   "source": [
    "def clean_text(tweet):\n",
    "        # Remove hashtags\n",
    "        tweet = re.sub(\"#\\w*\", \"\", tweet)\n",
    "        # Remove @\n",
    "        tweet = re.sub(\"@\\w*\", \"\", tweet)\n",
    "        tweet = re.sub(\"&amp\", \"\", tweet)\n",
    "        tweet = tweet.replace(\"\\n\", \" \")\n",
    "        # Remove multiple spaces\n",
    "        tweet = re.sub(\"\\s{2,}\", \" \", tweet)\n",
    "        # Remove non-ascii\n",
    "        tweet = tweet.encode(\"ascii\", \"ignore\").decode(\"ascii\")\n",
    "        tweet = tweet.strip()\n",
    "        sep = 'https'\n",
    "        tweet = tweet.split(sep, 1)[0]\n",
    "        return tweet"
   ]
  },
  {
   "cell_type": "code",
   "execution_count": 52,
   "id": "d846bf17",
   "metadata": {},
   "outputs": [
    {
     "name": "stdout",
     "output_type": "stream",
     "text": [
      "Love u Bhaijan ... Father + son .. Bharat IAmBharat BharatThisEid BEST Pic From Entire Promotions ... Mashallah  \n"
     ]
    }
   ],
   "source": [
    "print(clean_text(\"Love u Bhaijan ...♥♥ Father + son .. # Bharat # IAmBharat # BharatThisEid BEST Pic From Entire # Promotions ... Mashallah … https // t . co / S2xhwU6LUD\"))"
   ]
  },
  {
   "cell_type": "code",
   "execution_count": 53,
   "id": "0bcd7270",
   "metadata": {},
   "outputs": [],
   "source": [
    "newer_data = []"
   ]
  },
  {
   "cell_type": "code",
   "execution_count": 54,
   "id": "69c4560a",
   "metadata": {},
   "outputs": [],
   "source": [
    "for row in new_data:\n",
    "    tweet = clean_text(row['tweet'])\n",
    "    new_row = {\"tweet\":tweet, \"label\":row['label']}\n",
    "    newer_data.append(new_row)"
   ]
  },
  {
   "cell_type": "code",
   "execution_count": 55,
   "id": "955c08ad",
   "metadata": {},
   "outputs": [
    {
     "data": {
      "text/plain": [
       "15131"
      ]
     },
     "execution_count": 55,
     "metadata": {},
     "output_type": "execute_result"
    }
   ],
   "source": [
    "len(new_data)"
   ]
  },
  {
   "cell_type": "code",
   "execution_count": 56,
   "id": "9995cdcc",
   "metadata": {
    "scrolled": true
   },
   "outputs": [
    {
     "data": {
      "text/plain": [
       "[{'tweet': 'AdilNisarButt pakistan ka ghra tauq he Pakistan Israel ko tasleem nahein kerta Isko Palestine kehta he - OCCUPIED PALESTINE',\n",
       "  'label': 'negative'},\n",
       " {'tweet': 'Madarchod mulle ye mathura me Nahi dikha tha jab mullo ne Hindu ko iss liye mara ki vo lasse ki paise mag liye the  ',\n",
       "  'label': 'negative'},\n",
       " {'tweet': 'narendramodi Manya Pradhan Mantri mahoday Shriman Narendra Modi ji Pradhanmantri banne par Hardik Badhai tahe Dil  ',\n",
       "  'label': 'positive'},\n",
       " {'tweet': 'Atheist _ Krishna Jcb full trend me chal rahi aa',\n",
       "  'label': 'positive'},\n",
       " {'tweet': 'AbhisharSharma _ RavishKumarBlog Loksabha me janta sirf modi ko vote de rahi thi na ki kisi MP or BJP ko without m  ',\n",
       "  'label': 'positive'},\n",
       " {'tweet': 'noirnaveed AngelAhana6 cricketworldcup Bhosdike tum pechvade ki tatti hi rahoge bc',\n",
       "  'label': 'negative'},\n",
       " {'tweet': 'Love u Bhaijan ... Father + son .. Bharat IAmBharat BharatThisEid BEST Pic From Entire Promotions ... Mashallah  ',\n",
       "  'label': 'positive'},\n",
       " {'tweet': 'manojgajjar111 Tumhara pass abh deemagh hai nahi islea Google ko apna deemagh banaya hua hai . Har koi tumhari tarh  ',\n",
       "  'label': 'negative'},\n",
       " {'tweet': 'Mahlogo _ nolo Weni ankere o gae this weekend',\n",
       "  'label': 'positive'},\n",
       " {'tweet': 'Aurangzeb _ AIMIM SachinS40805591 Lage raho mullo tumhre issi Quran faad gyan ki kayal hain duniya Allah bhi khus  ',\n",
       "  'label': 'negative'}]"
      ]
     },
     "execution_count": 56,
     "metadata": {},
     "output_type": "execute_result"
    }
   ],
   "source": [
    "newer_data[:10]"
   ]
  },
  {
   "cell_type": "code",
   "execution_count": 58,
   "id": "4275dabb",
   "metadata": {},
   "outputs": [],
   "source": [
    "import csv\n",
    "\n",
    "keys = newer_data[0].keys()\n",
    "\n",
    "with open('corpus.csv', 'w', newline='') as output_file:\n",
    "    dict_writer = csv.DictWriter(output_file, keys)\n",
    "    dict_writer.writeheader()\n",
    "    dict_writer.writerows(newer_data)"
   ]
  },
  {
   "cell_type": "code",
   "execution_count": null,
   "id": "6ecce85f",
   "metadata": {},
   "outputs": [],
   "source": []
  }
 ],
 "metadata": {
  "kernelspec": {
   "display_name": "Python 3",
   "language": "python",
   "name": "python3"
  },
  "language_info": {
   "codemirror_mode": {
    "name": "ipython",
    "version": 3
   },
   "file_extension": ".py",
   "mimetype": "text/x-python",
   "name": "python",
   "nbconvert_exporter": "python",
   "pygments_lexer": "ipython3",
   "version": "3.9.7"
  }
 },
 "nbformat": 4,
 "nbformat_minor": 5
}
